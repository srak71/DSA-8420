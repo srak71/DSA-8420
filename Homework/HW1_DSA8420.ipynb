{
 "cells": [
  {
   "cell_type": "markdown",
   "metadata": {},
   "source": [
    "1.) Compute following..."
   ]
  },
  {
   "cell_type": "markdown",
   "metadata": {},
   "source": [
    "a.) $A + B$"
   ]
  },
  {
   "cell_type": "code",
   "execution_count": 1,
   "metadata": {},
   "outputs": [
    {
     "data": {
      "text/plain": [
       "array([[ 8, 10, -7],\n",
       "       [-3,  6,  3],\n",
       "       [ 7,  6,  8]])"
      ]
     },
     "execution_count": 1,
     "metadata": {},
     "output_type": "execute_result"
    }
   ],
   "source": [
    "import numpy as np\n",
    "from sympy import Matrix\n",
    "\n",
    "A = np.array([[8, 7, -1], [-5, -3, 8], [4, 2, 6]])\n",
    "B = np.array([[0, 3, -6], [2, 9, -5], [3, 4, 2]])\n",
    "\n",
    "A_plus_B = A + B\n",
    "A_plus_B\n"
   ]
  },
  {
   "cell_type": "markdown",
   "metadata": {},
   "source": [
    "b.) $AB$"
   ]
  },
  {
   "cell_type": "code",
   "execution_count": 2,
   "metadata": {},
   "outputs": [
    {
     "data": {
      "text/plain": [
       "array([[ 11,  83, -85],\n",
       "       [ 18, -10,  61],\n",
       "       [ 22,  54, -22]])"
      ]
     },
     "execution_count": 2,
     "metadata": {},
     "output_type": "execute_result"
    }
   ],
   "source": [
    "AB = np.dot(A, B)\n",
    "AB"
   ]
  },
  {
   "cell_type": "markdown",
   "metadata": {},
   "source": [
    "c.) $(BA)^{T}$"
   ]
  },
  {
   "cell_type": "code",
   "execution_count": 3,
   "metadata": {},
   "outputs": [
    {
     "data": {
      "text/plain": [
       "array([[-39, -49,  12],\n",
       "       [-21, -23,  13],\n",
       "       [-12,  40,  41]])"
      ]
     },
     "execution_count": 3,
     "metadata": {},
     "output_type": "execute_result"
    }
   ],
   "source": [
    "BA = np.dot(B, A)\n",
    "BA_T = BA.T\n",
    "BA_T"
   ]
  },
  {
   "cell_type": "markdown",
   "metadata": {},
   "source": [
    "d.) $tA$"
   ]
  },
  {
   "cell_type": "code",
   "execution_count": 4,
   "metadata": {},
   "outputs": [
    {
     "data": {
      "text/plain": [
       "array([[-16, -14,   2],\n",
       "       [ 10,   6, -16],\n",
       "       [ -8,  -4, -12]])"
      ]
     },
     "execution_count": 4,
     "metadata": {},
     "output_type": "execute_result"
    }
   ],
   "source": [
    "t = -2\n",
    "tA = t * A\n",
    "tA"
   ]
  },
  {
   "cell_type": "markdown",
   "metadata": {},
   "source": [
    "e.) $Ax$"
   ]
  },
  {
   "cell_type": "code",
   "execution_count": 5,
   "metadata": {},
   "outputs": [
    {
     "name": "stdout",
     "output_type": "stream",
     "text": [
      "Ax = [15  4 22]\n"
     ]
    }
   ],
   "source": [
    "x = np.array([3, -1, 2])\n",
    "Ax = np.dot(A, x)\n",
    "print(\"Ax =\", Ax)"
   ]
  },
  {
   "cell_type": "markdown",
   "metadata": {},
   "source": [
    "f.) $x^{T}B$"
   ]
  },
  {
   "cell_type": "code",
   "execution_count": 6,
   "metadata": {},
   "outputs": [
    {
     "name": "stdout",
     "output_type": "stream",
     "text": [
      "xT_B = [ 4  8 -9]\n"
     ]
    }
   ],
   "source": [
    "x_T = x.T\n",
    "xT_B = np.dot(x_T, B)\n",
    "print(\"xT_B =\", xT_B)"
   ]
  },
  {
   "cell_type": "markdown",
   "metadata": {},
   "source": [
    "2. Transform each of the following matrices to reduced row echelon form (RREF)"
   ]
  },
  {
   "cell_type": "markdown",
   "metadata": {},
   "source": [
    "a.)"
   ]
  },
  {
   "cell_type": "code",
   "execution_count": 7,
   "metadata": {},
   "outputs": [
    {
     "data": {
      "text/latex": [
       "$\\displaystyle \\left[\\begin{matrix}1 & 0 & 0 & 1\\\\0 & 1 & 0 & -1\\\\0 & 0 & 1 & 2\\end{matrix}\\right]$"
      ],
      "text/plain": [
       "Matrix([\n",
       "[1, 0, 0,  1],\n",
       "[0, 1, 0, -1],\n",
       "[0, 0, 1,  2]])"
      ]
     },
     "execution_count": 7,
     "metadata": {},
     "output_type": "execute_result"
    }
   ],
   "source": [
    "A = Matrix([[1, -2, 3, 9], [-1, 3, 0, -4], [2, -5, 5, 17]])\n",
    "A_rref, _ = A.rref()\n",
    "A_rref"
   ]
  },
  {
   "cell_type": "markdown",
   "metadata": {},
   "source": [
    "b.)"
   ]
  },
  {
   "cell_type": "code",
   "execution_count": 8,
   "metadata": {},
   "outputs": [
    {
     "data": {
      "text/latex": [
       "$\\displaystyle \\left[\\begin{matrix}1 & 0 & -2 & 0 & 1\\\\0 & 1 & 3 & 0 & -4\\\\0 & 0 & 0 & 1 & -1\\\\0 & 0 & 0 & 0 & 0\\end{matrix}\\right]$"
      ],
      "text/plain": [
       "Matrix([\n",
       "[1, 0, -2, 0,  1],\n",
       "[0, 1,  3, 0, -4],\n",
       "[0, 0,  0, 1, -1],\n",
       "[0, 0,  0, 0,  0]])"
      ]
     },
     "execution_count": 8,
     "metadata": {},
     "output_type": "execute_result"
    }
   ],
   "source": [
    "B = Matrix([[1, 0, -2, 1, 0], [0, -1, -3, 1, 3], [-2, -1, 1, -1, 3], [0, 3, 9, 0, -12]])\n",
    "B_rref, _ = B.rref()\n",
    "B_rref"
   ]
  },
  {
   "cell_type": "markdown",
   "metadata": {},
   "source": [
    "3.) Find $(BA)^{-1}$"
   ]
  },
  {
   "cell_type": "code",
   "execution_count": 9,
   "metadata": {},
   "outputs": [
    {
     "data": {
      "text/plain": [
       "array([[14, 11],\n",
       "       [14,  6]])"
      ]
     },
     "execution_count": 9,
     "metadata": {},
     "output_type": "execute_result"
    }
   ],
   "source": [
    "A_inv = np.array([[3, 2], [1, 3]])\n",
    "B_inv = np.array([[2, 3], [4, 1]])\n",
    "\n",
    "BA_inv = np.dot(A_inv, B_inv)\n",
    "BA_inv"
   ]
  },
  {
   "cell_type": "markdown",
   "metadata": {},
   "source": [
    "4.) Find Invese of Matrices"
   ]
  },
  {
   "cell_type": "markdown",
   "metadata": {},
   "source": [
    "a.)"
   ]
  },
  {
   "cell_type": "code",
   "execution_count": 10,
   "metadata": {},
   "outputs": [
    {
     "name": "stdout",
     "output_type": "stream",
     "text": [
      "a^-1 =\n",
      " [[ 0.21428571  0.14285714]\n",
      " [-0.28571429  0.14285714]]\n"
     ]
    }
   ],
   "source": [
    "matrix_a = np.array([[2, -2], [4, 3]])\n",
    "matrix_a_inv = np.linalg.inv(matrix_a)\n",
    "print(\"a^-1 =\\n\", matrix_a_inv)"
   ]
  },
  {
   "cell_type": "markdown",
   "metadata": {},
   "source": [
    "b.)"
   ]
  },
  {
   "cell_type": "code",
   "execution_count": 11,
   "metadata": {},
   "outputs": [
    {
     "name": "stdout",
     "output_type": "stream",
     "text": [
      "b^-1 =\n",
      " [[ 8. -2. -5.]\n",
      " [-3.  1.  2.]\n",
      " [-1.  0.  1.]]\n"
     ]
    }
   ],
   "source": [
    "matrix_b = np.array([[1, 2, 1], [1, 3, -1], [1, 2, 2]])\n",
    "matrix_b_inv = np.linalg.inv(matrix_b)\n",
    "print(\"b^-1 =\\n\", matrix_b_inv)"
   ]
  },
  {
   "cell_type": "markdown",
   "metadata": {},
   "source": [
    "c.)"
   ]
  },
  {
   "cell_type": "code",
   "execution_count": 12,
   "metadata": {},
   "outputs": [
    {
     "name": "stdout",
     "output_type": "stream",
     "text": [
      "c^-1 =\n",
      " [[ 0.33333333  0.33333333 -0.08333333]\n",
      " [-0.33333333  0.16666667  0.20833333]\n",
      " [ 0.33333333 -0.16666667  0.04166667]]\n"
     ]
    }
   ],
   "source": [
    "matrix_c = np.array([[1, 0, 2], [2, 1, -1], [0, 4, 4]])\n",
    "matrix_c_inv = np.linalg.inv(matrix_c)\n",
    "print(\"c^-1 =\\n\", matrix_c_inv)"
   ]
  },
  {
   "cell_type": "markdown",
   "metadata": {},
   "source": []
  }
 ],
 "metadata": {
  "kernelspec": {
   "display_name": "Python 3",
   "language": "python",
   "name": "python3"
  },
  "language_info": {
   "codemirror_mode": {
    "name": "ipython",
    "version": 3
   },
   "file_extension": ".py",
   "mimetype": "text/x-python",
   "name": "python",
   "nbconvert_exporter": "python",
   "pygments_lexer": "ipython3",
   "version": "3.12.7"
  }
 },
 "nbformat": 4,
 "nbformat_minor": 2
}
